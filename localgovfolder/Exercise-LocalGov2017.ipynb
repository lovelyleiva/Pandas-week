{
 "cells": [
  {
   "cell_type": "markdown",
   "metadata": {},
   "source": [
    "# Data Visualization with Government Units\n",
    "\n",
    "In this exercise, we will explore creating bar graphs and scatter plots with [some public sector data from Census.gov](https://data.census.gov/cedsci/table?d=PUB%20Public%20Sector%20Annual%20Surveys%20Public%20Sector%20Annual%20Surveys&tid=GOVSTIMESERIES.CG00ORG02&hidePreview=false&vintage=2018).  Note: We have provided a modified dataset as part of the exercise.  We have cleaned the data and reorganized it in a way that it is easier to use for reporting.  We cover cleaning and reshaping data in our full course, though not in this preview course.\n",
    "\n",
    "This Jupyter Notebook file assumes that **govt2017_values.csv** is in the same folder as this file.\n",
    "\n",
    "Import `pandas` with the alias of `pd`"
   ]
  },
  {
   "cell_type": "code",
   "execution_count": 1,
   "metadata": {},
   "outputs": [],
   "source": [
    "import pandas as pd"
   ]
  },
  {
   "cell_type": "markdown",
   "metadata": {},
   "source": [
    "Using `read_csv()`, store the contents of `govt2017_values.csv` in a variable named `govt_2017`."
   ]
  },
  {
   "cell_type": "code",
   "execution_count": 2,
   "metadata": {},
   "outputs": [],
   "source": [
    "govt_2017 = pd.read_csv('govt2017_values.csv')"
   ]
  },
  {
   "cell_type": "markdown",
   "metadata": {},
   "source": [
    "Inspect the `govt_2017`DataFrame to see how many rows and columns it has."
   ]
  },
  {
   "cell_type": "code",
   "execution_count": 5,
   "metadata": {},
   "outputs": [
    {
     "data": {
      "text/plain": [
       "(51, 10)"
      ]
     },
     "execution_count": 5,
     "metadata": {},
     "output_type": "execute_result"
    }
   ],
   "source": [
    "govt_2017.shape"
   ]
  },
  {
   "cell_type": "markdown",
   "metadata": {},
   "source": [
    "Inspect the column types to know what kind of data you are working with."
   ]
  },
  {
   "cell_type": "code",
   "execution_count": 6,
   "metadata": {
    "scrolled": true
   },
   "outputs": [
    {
     "name": "stdout",
     "output_type": "stream",
     "text": [
      "<class 'pandas.core.frame.DataFrame'>\n",
      "RangeIndex: 51 entries, 0 to 50\n",
      "Data columns (total 10 columns):\n",
      " #   Column                                                                                                Non-Null Count  Dtype \n",
      "---  ------                                                                                                --------------  ----- \n",
      " 0   NAME                                                                                                  51 non-null     object\n",
      " 1   Total Local Government Units                                                                          51 non-null     int64 \n",
      " 2   Total Local Government Units - County Governments                                                     51 non-null     int64 \n",
      " 3   Total Local Government Units - General Purpose Governments                                            51 non-null     int64 \n",
      " 4   Total Local Government Units - Special Purpose Governments                                            51 non-null     int64 \n",
      " 5   Total Local Government Units - Special Purpose Governments - Independent School District Governments  51 non-null     int64 \n",
      " 6   Total Local Government Units - Special Purpose Governments - Special District Governments             51 non-null     int64 \n",
      " 7   Total Local Government Units - Subcounty Governments                                                  51 non-null     int64 \n",
      " 8   Total Local Government Units - Subcounty Governments - Municipal Governments                          51 non-null     int64 \n",
      " 9   Total Local Government Units - Subcounty Governments - Township Governments                           51 non-null     int64 \n",
      "dtypes: int64(9), object(1)\n",
      "memory usage: 4.1+ KB\n"
     ]
    }
   ],
   "source": [
    "govt_2017.info()"
   ]
  },
  {
   "cell_type": "markdown",
   "metadata": {},
   "source": [
    "## Creating Bar Charts\n",
    "\n",
    "In the accompany lesson, we explain how to create bar charts.  In this exercise, we will create both the standard vertical bar chart as well as rotate it into a horizontal bar chart.\n",
    "\n",
    "For this bar chart, we are concerned with two columns - `NAME` and `Total Local Government Units`.  As there are spaces in the field names, we will need to use bracket notation rather than dot notation.\n",
    "\n",
    "Create a variable called `total_units` and store in those 2 columns from the `govt_2017` DataFrame."
   ]
  },
  {
   "cell_type": "code",
   "execution_count": 25,
   "metadata": {},
   "outputs": [
    {
     "data": {
      "text/html": [
       "<div>\n",
       "<style scoped>\n",
       "    .dataframe tbody tr th:only-of-type {\n",
       "        vertical-align: middle;\n",
       "    }\n",
       "\n",
       "    .dataframe tbody tr th {\n",
       "        vertical-align: top;\n",
       "    }\n",
       "\n",
       "    .dataframe thead th {\n",
       "        text-align: right;\n",
       "    }\n",
       "</style>\n",
       "<table border=\"1\" class=\"dataframe\">\n",
       "  <thead>\n",
       "    <tr style=\"text-align: right;\">\n",
       "      <th></th>\n",
       "      <th>NAME</th>\n",
       "      <th>Total Local Government Units</th>\n",
       "    </tr>\n",
       "  </thead>\n",
       "  <tbody>\n",
       "    <tr>\n",
       "      <th>0</th>\n",
       "      <td>Alabama</td>\n",
       "      <td>1195</td>\n",
       "    </tr>\n",
       "    <tr>\n",
       "      <th>1</th>\n",
       "      <td>Alaska</td>\n",
       "      <td>179</td>\n",
       "    </tr>\n",
       "    <tr>\n",
       "      <th>2</th>\n",
       "      <td>Arizona</td>\n",
       "      <td>658</td>\n",
       "    </tr>\n",
       "    <tr>\n",
       "      <th>3</th>\n",
       "      <td>Arkansas</td>\n",
       "      <td>1541</td>\n",
       "    </tr>\n",
       "    <tr>\n",
       "      <th>4</th>\n",
       "      <td>California</td>\n",
       "      <td>4444</td>\n",
       "    </tr>\n",
       "  </tbody>\n",
       "</table>\n",
       "</div>"
      ],
      "text/plain": [
       "         NAME  Total Local Government Units\n",
       "0     Alabama                          1195\n",
       "1      Alaska                           179\n",
       "2     Arizona                           658\n",
       "3    Arkansas                          1541\n",
       "4  California                          4444"
      ]
     },
     "execution_count": 25,
     "metadata": {},
     "output_type": "execute_result"
    }
   ],
   "source": [
    "total_units = govt_2017[['NAME', 'Total Local Government Units']]\n",
    "total_units.head()"
   ]
  },
  {
   "cell_type": "markdown",
   "metadata": {},
   "source": [
    "We want to sort those values by `Total Local Government Units` highest to lowest (`ascending=False`). `sort_values()` will operate on the DataFrame you call it on.  However, we want to capture this result in a variable named `sorted_totals` so that we can work with it later."
   ]
  },
  {
   "cell_type": "code",
   "execution_count": 26,
   "metadata": {
    "scrolled": true
   },
   "outputs": [
    {
     "data": {
      "text/html": [
       "<div>\n",
       "<style scoped>\n",
       "    .dataframe tbody tr th:only-of-type {\n",
       "        vertical-align: middle;\n",
       "    }\n",
       "\n",
       "    .dataframe tbody tr th {\n",
       "        vertical-align: top;\n",
       "    }\n",
       "\n",
       "    .dataframe thead th {\n",
       "        text-align: right;\n",
       "    }\n",
       "</style>\n",
       "<table border=\"1\" class=\"dataframe\">\n",
       "  <thead>\n",
       "    <tr style=\"text-align: right;\">\n",
       "      <th></th>\n",
       "      <th>NAME</th>\n",
       "      <th>Total Local Government Units</th>\n",
       "    </tr>\n",
       "  </thead>\n",
       "  <tbody>\n",
       "    <tr>\n",
       "      <th>13</th>\n",
       "      <td>Illinois</td>\n",
       "      <td>6918</td>\n",
       "    </tr>\n",
       "    <tr>\n",
       "      <th>43</th>\n",
       "      <td>Texas</td>\n",
       "      <td>5343</td>\n",
       "    </tr>\n",
       "    <tr>\n",
       "      <th>38</th>\n",
       "      <td>Pennsylvania</td>\n",
       "      <td>4830</td>\n",
       "    </tr>\n",
       "    <tr>\n",
       "      <th>4</th>\n",
       "      <td>California</td>\n",
       "      <td>4444</td>\n",
       "    </tr>\n",
       "    <tr>\n",
       "      <th>35</th>\n",
       "      <td>Ohio</td>\n",
       "      <td>3897</td>\n",
       "    </tr>\n",
       "    <tr>\n",
       "      <th>16</th>\n",
       "      <td>Kansas</td>\n",
       "      <td>3792</td>\n",
       "    </tr>\n",
       "    <tr>\n",
       "      <th>25</th>\n",
       "      <td>Missouri</td>\n",
       "      <td>3768</td>\n",
       "    </tr>\n",
       "    <tr>\n",
       "      <th>23</th>\n",
       "      <td>Minnesota</td>\n",
       "      <td>3643</td>\n",
       "    </tr>\n",
       "    <tr>\n",
       "      <th>32</th>\n",
       "      <td>New York</td>\n",
       "      <td>3450</td>\n",
       "    </tr>\n",
       "    <tr>\n",
       "      <th>5</th>\n",
       "      <td>Colorado</td>\n",
       "      <td>3141</td>\n",
       "    </tr>\n",
       "    <tr>\n",
       "      <th>49</th>\n",
       "      <td>Wisconsin</td>\n",
       "      <td>3096</td>\n",
       "    </tr>\n",
       "    <tr>\n",
       "      <th>22</th>\n",
       "      <td>Michigan</td>\n",
       "      <td>2863</td>\n",
       "    </tr>\n",
       "    <tr>\n",
       "      <th>34</th>\n",
       "      <td>North Dakota</td>\n",
       "      <td>2664</td>\n",
       "    </tr>\n",
       "    <tr>\n",
       "      <th>14</th>\n",
       "      <td>Indiana</td>\n",
       "      <td>2638</td>\n",
       "    </tr>\n",
       "    <tr>\n",
       "      <th>27</th>\n",
       "      <td>Nebraska</td>\n",
       "      <td>2538</td>\n",
       "    </tr>\n",
       "    <tr>\n",
       "      <th>15</th>\n",
       "      <td>Iowa</td>\n",
       "      <td>1941</td>\n",
       "    </tr>\n",
       "    <tr>\n",
       "      <th>41</th>\n",
       "      <td>South Dakota</td>\n",
       "      <td>1916</td>\n",
       "    </tr>\n",
       "    <tr>\n",
       "      <th>47</th>\n",
       "      <td>Washington</td>\n",
       "      <td>1900</td>\n",
       "    </tr>\n",
       "    <tr>\n",
       "      <th>36</th>\n",
       "      <td>Oklahoma</td>\n",
       "      <td>1830</td>\n",
       "    </tr>\n",
       "    <tr>\n",
       "      <th>9</th>\n",
       "      <td>Florida</td>\n",
       "      <td>1712</td>\n",
       "    </tr>\n",
       "    <tr>\n",
       "      <th>3</th>\n",
       "      <td>Arkansas</td>\n",
       "      <td>1541</td>\n",
       "    </tr>\n",
       "    <tr>\n",
       "      <th>37</th>\n",
       "      <td>Oregon</td>\n",
       "      <td>1510</td>\n",
       "    </tr>\n",
       "    <tr>\n",
       "      <th>10</th>\n",
       "      <td>Georgia</td>\n",
       "      <td>1380</td>\n",
       "    </tr>\n",
       "    <tr>\n",
       "      <th>30</th>\n",
       "      <td>New Jersey</td>\n",
       "      <td>1338</td>\n",
       "    </tr>\n",
       "    <tr>\n",
       "      <th>17</th>\n",
       "      <td>Kentucky</td>\n",
       "      <td>1322</td>\n",
       "    </tr>\n",
       "    <tr>\n",
       "      <th>26</th>\n",
       "      <td>Montana</td>\n",
       "      <td>1226</td>\n",
       "    </tr>\n",
       "    <tr>\n",
       "      <th>0</th>\n",
       "      <td>Alabama</td>\n",
       "      <td>1195</td>\n",
       "    </tr>\n",
       "    <tr>\n",
       "      <th>12</th>\n",
       "      <td>Idaho</td>\n",
       "      <td>1170</td>\n",
       "    </tr>\n",
       "    <tr>\n",
       "      <th>31</th>\n",
       "      <td>New Mexico</td>\n",
       "      <td>1013</td>\n",
       "    </tr>\n",
       "    <tr>\n",
       "      <th>33</th>\n",
       "      <td>North Carolina</td>\n",
       "      <td>970</td>\n",
       "    </tr>\n",
       "    <tr>\n",
       "      <th>24</th>\n",
       "      <td>Mississippi</td>\n",
       "      <td>969</td>\n",
       "    </tr>\n",
       "    <tr>\n",
       "      <th>42</th>\n",
       "      <td>Tennessee</td>\n",
       "      <td>906</td>\n",
       "    </tr>\n",
       "    <tr>\n",
       "      <th>21</th>\n",
       "      <td>Massachusetts</td>\n",
       "      <td>858</td>\n",
       "    </tr>\n",
       "    <tr>\n",
       "      <th>19</th>\n",
       "      <td>Maine</td>\n",
       "      <td>834</td>\n",
       "    </tr>\n",
       "    <tr>\n",
       "      <th>50</th>\n",
       "      <td>Wyoming</td>\n",
       "      <td>794</td>\n",
       "    </tr>\n",
       "    <tr>\n",
       "      <th>45</th>\n",
       "      <td>Vermont</td>\n",
       "      <td>729</td>\n",
       "    </tr>\n",
       "    <tr>\n",
       "      <th>40</th>\n",
       "      <td>South Carolina</td>\n",
       "      <td>671</td>\n",
       "    </tr>\n",
       "    <tr>\n",
       "      <th>2</th>\n",
       "      <td>Arizona</td>\n",
       "      <td>658</td>\n",
       "    </tr>\n",
       "    <tr>\n",
       "      <th>48</th>\n",
       "      <td>West Virginia</td>\n",
       "      <td>651</td>\n",
       "    </tr>\n",
       "    <tr>\n",
       "      <th>6</th>\n",
       "      <td>Connecticut</td>\n",
       "      <td>625</td>\n",
       "    </tr>\n",
       "    <tr>\n",
       "      <th>44</th>\n",
       "      <td>Utah</td>\n",
       "      <td>619</td>\n",
       "    </tr>\n",
       "    <tr>\n",
       "      <th>29</th>\n",
       "      <td>New Hampshire</td>\n",
       "      <td>541</td>\n",
       "    </tr>\n",
       "    <tr>\n",
       "      <th>46</th>\n",
       "      <td>Virginia</td>\n",
       "      <td>517</td>\n",
       "    </tr>\n",
       "    <tr>\n",
       "      <th>18</th>\n",
       "      <td>Louisiana</td>\n",
       "      <td>516</td>\n",
       "    </tr>\n",
       "    <tr>\n",
       "      <th>20</th>\n",
       "      <td>Maryland</td>\n",
       "      <td>344</td>\n",
       "    </tr>\n",
       "    <tr>\n",
       "      <th>7</th>\n",
       "      <td>Delaware</td>\n",
       "      <td>334</td>\n",
       "    </tr>\n",
       "    <tr>\n",
       "      <th>28</th>\n",
       "      <td>Nevada</td>\n",
       "      <td>189</td>\n",
       "    </tr>\n",
       "    <tr>\n",
       "      <th>1</th>\n",
       "      <td>Alaska</td>\n",
       "      <td>179</td>\n",
       "    </tr>\n",
       "    <tr>\n",
       "      <th>39</th>\n",
       "      <td>Rhode Island</td>\n",
       "      <td>129</td>\n",
       "    </tr>\n",
       "    <tr>\n",
       "      <th>11</th>\n",
       "      <td>Hawaii</td>\n",
       "      <td>21</td>\n",
       "    </tr>\n",
       "    <tr>\n",
       "      <th>8</th>\n",
       "      <td>District of Columbia</td>\n",
       "      <td>2</td>\n",
       "    </tr>\n",
       "  </tbody>\n",
       "</table>\n",
       "</div>"
      ],
      "text/plain": [
       "                    NAME  Total Local Government Units\n",
       "13              Illinois                          6918\n",
       "43                 Texas                          5343\n",
       "38          Pennsylvania                          4830\n",
       "4             California                          4444\n",
       "35                  Ohio                          3897\n",
       "16                Kansas                          3792\n",
       "25              Missouri                          3768\n",
       "23             Minnesota                          3643\n",
       "32              New York                          3450\n",
       "5               Colorado                          3141\n",
       "49             Wisconsin                          3096\n",
       "22              Michigan                          2863\n",
       "34          North Dakota                          2664\n",
       "14               Indiana                          2638\n",
       "27              Nebraska                          2538\n",
       "15                  Iowa                          1941\n",
       "41          South Dakota                          1916\n",
       "47            Washington                          1900\n",
       "36              Oklahoma                          1830\n",
       "9                Florida                          1712\n",
       "3               Arkansas                          1541\n",
       "37                Oregon                          1510\n",
       "10               Georgia                          1380\n",
       "30            New Jersey                          1338\n",
       "17              Kentucky                          1322\n",
       "26               Montana                          1226\n",
       "0                Alabama                          1195\n",
       "12                 Idaho                          1170\n",
       "31            New Mexico                          1013\n",
       "33        North Carolina                           970\n",
       "24           Mississippi                           969\n",
       "42             Tennessee                           906\n",
       "21         Massachusetts                           858\n",
       "19                 Maine                           834\n",
       "50               Wyoming                           794\n",
       "45               Vermont                           729\n",
       "40        South Carolina                           671\n",
       "2                Arizona                           658\n",
       "48         West Virginia                           651\n",
       "6            Connecticut                           625\n",
       "44                  Utah                           619\n",
       "29         New Hampshire                           541\n",
       "46              Virginia                           517\n",
       "18             Louisiana                           516\n",
       "20              Maryland                           344\n",
       "7               Delaware                           334\n",
       "28                Nevada                           189\n",
       "1                 Alaska                           179\n",
       "39          Rhode Island                           129\n",
       "11                Hawaii                            21\n",
       "8   District of Columbia                             2"
      ]
     },
     "execution_count": 26,
     "metadata": {},
     "output_type": "execute_result"
    }
   ],
   "source": [
    "sorted_totals = total_units.sort_values('Total Local Government Units', ascending=False)\n",
    "sorted_totals"
   ]
  },
  {
   "cell_type": "markdown",
   "metadata": {},
   "source": [
    "We want to plot the top 10 totals of local government units by state.  To keep things simple, store the first 10 records of our `sorted_totals` in a variable named `sorted_totals_top10`."
   ]
  },
  {
   "cell_type": "code",
   "execution_count": 28,
   "metadata": {},
   "outputs": [],
   "source": [
    "sorted_totals_top10 = sorted_totals.head(10)"
   ]
  },
  {
   "cell_type": "markdown",
   "metadata": {},
   "source": [
    "Once the top 10 data is stored, generate a bar graph off of the `plot` property on the `sorted_totals_top10` variable.  For the call to the `bar()` function, pass in 'NAME' for the x value."
   ]
  },
  {
   "cell_type": "code",
   "execution_count": 29,
   "metadata": {},
   "outputs": [
    {
     "data": {
      "text/plain": [
       "<AxesSubplot:xlabel='NAME'>"
      ]
     },
     "execution_count": 29,
     "metadata": {},
     "output_type": "execute_result"
    },
    {
     "data": {
      "image/png": "[encoded data removed]",
      "text/plain": [
       "<Figure size 432x288 with 1 Axes>"
      ]
     },
     "metadata": {
      "needs_background": "light"
     },
     "output_type": "display_data"
    }
   ],
   "source": [
    "# car_manufacturer_sizes= cars[['Manufacturer','Type']]\n",
    "# car_sizes = car_manufacturer_sizes.Type.value_counts()\n",
    "# car_sizes.plot.bar()\n",
    "\n",
    "sorted_totals_top10.plot.bar('NAME')"
   ]
  },
  {
   "cell_type": "markdown",
   "metadata": {},
   "source": [
    "Now, we want to work with this bar graph and add x and y labels.\n",
    "\n",
    "1. Import `matplotlib.pyplot` as `plt`.\n",
    "2. Use the magic function `%matplotlib inline` to keep our plots in the notebook."
   ]
  },
  {
   "cell_type": "code",
   "execution_count": 30,
   "metadata": {},
   "outputs": [],
   "source": [
    "import matplotlib.pyplot as plt\n",
    "%matplotlib inline"
   ]
  },
  {
   "cell_type": "markdown",
   "metadata": {},
   "source": [
    "In the following code block:\n",
    "\n",
    "1. Store a plot in a variable named `ax` using the `plot()` function off of `sorted_totals_top10` with the following information:\n",
    "    - Title: **Top 10 Total Local Government Units by State**\n",
    "    - Kind: **bar**\n",
    "    - x: **NAME**\n",
    "2. Set the x axis label to **State**.\n",
    "3. Set the y axis label to **Number of Local Government Units**.\n",
    "4. Show the plot"
   ]
  },
  {
   "cell_type": "code",
   "execution_count": 38,
   "metadata": {},
   "outputs": [
    {
     "data": {
      "image/png": "[encoded data removed]",
      "text/plain": [
       "<Figure size 432x288 with 1 Axes>"
      ]
     },
     "metadata": {
      "needs_background": "light"
     },
     "output_type": "display_data"
    }
   ],
   "source": [
    "ax = sorted_totals_top10.plot(title='Top 10 Total Local Government Units by State', kind = 'bar', x='NAME')\n",
    "ax.set_xlabel('State')\n",
    "ax.set_ylabel(\"Number of Local Government Units\")\n",
    "plt.show()"
   ]
  },
  {
   "cell_type": "markdown",
   "metadata": {},
   "source": [
    "## Creating Horizontal Bar Charts\n",
    "\n",
    "We can flip the vertical bar to a horizontal chart by setting the `kind` parameter to **barh** and update our axis labels accordingly.\n",
    "\n",
    "In the following code block:\n",
    "\n",
    "1. Store a plot in a variable named `ax` using the `plot()` function off of `sorted_totals_top10` with the following information:\n",
    "    - Title: **Top 10 Total Local Government Units by State**\n",
    "    - Kind: **barh**\n",
    "    - x: **NAME**\n",
    "2. Set the x axis label to Number of Local Government Units.\n",
    "3. Set the y axis label to State.\n",
    "4. Show the plot"
   ]
  },
  {
   "cell_type": "code",
   "execution_count": 40,
   "metadata": {},
   "outputs": [
    {
     "data": {
      "image/png": "[encoded data removed]",
      "text/plain": [
       "<Figure size 432x288 with 1 Axes>"
      ]
     },
     "metadata": {
      "needs_background": "light"
     },
     "output_type": "display_data"
    }
   ],
   "source": [
    "ax = sorted_totals_top10.plot(title='Top 10 Total Local Government Units by State', kind = 'barh', x='NAME')\n",
    "ax.set_ylabel('State')\n",
    "ax.set_xlabel(\"Number of Local Government Units\")\n",
    "plt.show()"
   ]
  },
  {
   "cell_type": "markdown",
   "metadata": {},
   "source": [
    "## Creating Scatter Plots\n",
    "\n",
    "As we mentioned in the lesson, scatter plots are good for understanding relationships between numerical data.  For this exercise, we are going to look at the relationships of the following columns of the `govt_2017` DataFrame:\n",
    "    \n",
    "    - Total Local Government Units - General Purpose Governments\n",
    "    - Total Local Government Units - Special Purpose Governments\n",
    "    - Total Local Government Units - County Governments\n",
    "    \n",
    "Create a variable named `scatter_data` and store these columns from the `govt_2017` dataset."
   ]
  },
  {
   "cell_type": "code",
   "execution_count": 41,
   "metadata": {},
   "outputs": [],
   "source": [
    "scatter_data = govt_2017[['Total Local Government Units - General Purpose Governments', 'Total Local Government Units - Special Purpose Governments', 'Total Local Government Units - County Governments']]"
   ]
  },
  {
   "cell_type": "markdown",
   "metadata": {},
   "source": [
    "Create a scatter plot using the `scatter()` function of the `plot` property of the `scatter_data` DataFrame with the following parameters:\n",
    "\n",
    "- Title: **General Purpose vs Special Purpose**\n",
    "- x: **Total Local Government Units - General Purpose Governments**\n",
    "- y: **Total Local Government Units - Special Purpose Governments**"
   ]
  },
  {
   "cell_type": "code",
   "execution_count": 45,
   "metadata": {},
   "outputs": [
    {
     "data": {
      "text/plain": [
       "<AxesSubplot:title={'center':'General Purpose vs Special Purpose'}, xlabel='Total Local Government Units - General Purpose Governments', ylabel='Total Local Government Units - Special Purpose Governments'>"
      ]
     },
     "execution_count": 45,
     "metadata": {},
     "output_type": "execute_result"
    },
    {
     "data": {
      "image/png": "[encoded data removed]",
      "text/plain": [
       "<Figure size 432x288 with 1 Axes>"
      ]
     },
     "metadata": {
      "needs_background": "light"
     },
     "output_type": "display_data"
    }
   ],
   "source": [
    "scatter_data.plot.scatter(title='General Purpose vs Special Purpose', x='Total Local Government Units - General Purpose Governments',y='Total Local Government Units - Special Purpose Governments')"
   ]
  },
  {
   "cell_type": "markdown",
   "metadata": {},
   "source": [
    "What relationship did you observe from the scatter plot?  Did you see points dense in an area versus scattered on the outskirts?"
   ]
  },
  {
   "cell_type": "markdown",
   "metadata": {},
   "source": []
  },
  {
   "cell_type": "markdown",
   "metadata": {},
   "source": [
    "### Plotting Multiple Series Against a Common Variable in a Scatter Plot\n",
    "\n",
    "As we mentioned in the lesson, it is possible to plot multiple series in a scatter plot.  If you are doing this, you need a way to differentiate your series.\n",
    "\n",
    "For this part of our exercise, we will explore any relationships between the county and general purpose units, in addition to the special and general purpose unit comparison.\n",
    "\n",
    "To make things easier to read - as these column names are long - we will store each column in a variable.\n",
    "\n",
    "1. Create a variable named `general_purpose` and store in the `Total Local Government Units - General Purpose Governments` column of `scatter_data`.\n",
    "2. Create a variable named `special_purpose` and store in the  `Total Local Government Units - Special Purpose Governments` column of `scatter_data`.\n",
    "3. Create a variable named `county_purpose` and store in the  `Total Local Government Units - County Governments` column of `scatter_data`."
   ]
  },
  {
   "cell_type": "code",
   "execution_count": 46,
   "metadata": {},
   "outputs": [],
   "source": [
    "general_purpose = scatter_data[['Total Local Government Units - General Purpose Governments']]\n",
    "special_purpose = scatter_data[['Total Local Government Units - Special Purpose Governments']]\n",
    "county_purpose = scatter_data[['Total Local Government Units - County Governments']]"
   ]
  },
  {
   "cell_type": "markdown",
   "metadata": {},
   "source": [
    "In the following code cell:\n",
    "\n",
    "1. Using `plt.scatter()`, create a plot with the following details:\n",
    "    - x: **general_purpose**\n",
    "    - y: **special_purpose**\n",
    "    - c: **#838286**\n",
    "    - label: **Special Purpose**\n",
    "2. Using `plt.scatter()`, create a plot with the following details:\n",
    "    - x: **general_purpose**\n",
    "    - y: **county_purpose**\n",
    "    - c: **#ed1650**\n",
    "    - label: **County**\n",
    "3. Set the title to **Special Purpose and County vs General Purpose**.\n",
    "4. Set the x axis label to **Total Units**.\n",
    "5. Set the y axis label to **Total Units**.\n",
    "6. Set the legend location to 1.  (Note: When we render the plot, there may be data under the legend.)\n",
    "7. Show the plot."
   ]
  },
  {
   "cell_type": "code",
   "execution_count": 47,
   "metadata": {},
   "outputs": [
    {
     "data": {
      "image/png": "[encoded data removed]",
      "text/plain": [
       "<Figure size 432x288 with 1 Axes>"
      ]
     },
     "metadata": {
      "needs_background": "light"
     },
     "output_type": "display_data"
    }
   ],
   "source": [
    "plt.scatter(x=general_purpose,y=special_purpose,c='#838286',label='Special Purpose')\n",
    "plt.scatter(x=general_purpose,y=county_purpose,c='#ed1650',label='County')\n",
    "plt.title('Special Purpose and County vs General Purpose')\n",
    "plt.xlabel('Total Units')\n",
    "plt.ylabel('Total Units')\n",
    "plt.legend(loc=1)\n",
    "plt.show()"
   ]
  },
  {
   "cell_type": "markdown",
   "metadata": {},
   "source": [
    "What observations do you notice about this scatter plot?"
   ]
  },
  {
   "cell_type": "markdown",
   "metadata": {},
   "source": []
  }
 ],
 "metadata": {
  "kernelspec": {
   "display_name": "Python 3.9.12 ('base')",
   "language": "python",
   "name": "python3"
  },
  "language_info": {
   "codemirror_mode": {
    "name": "ipython",
    "version": 3
   },
   "file_extension": ".py",
   "mimetype": "text/x-python",
   "name": "python",
   "nbconvert_exporter": "python",
   "pygments_lexer": "ipython3",
   "version": "3.9.12"
  },
  "vscode": {
   "interpreter": {
    "hash": "677269ff1059978f01a571cf32b059f48b6ac5cf47f6eac19ce06e6b7cc93bae"
   }
  }
 },
 "nbformat": 4,
 "nbformat_minor": 4
}
